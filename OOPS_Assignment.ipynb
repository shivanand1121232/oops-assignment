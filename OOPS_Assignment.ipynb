{
  "nbformat": 4,
  "nbformat_minor": 0,
  "metadata": {
    "colab": {
      "provenance": []
    },
    "kernelspec": {
      "name": "python3",
      "display_name": "Python 3"
    },
    "language_info": {
      "name": "python"
    }
  },
  "cells": [
    {
      "cell_type": "markdown",
      "source": [
        "**OOPS** Assignment"
      ],
      "metadata": {
        "id": "Suki5wpsvHx9"
      }
    },
    {
      "cell_type": "markdown",
      "source": [
        "1. What are the five key concepts of Object-Oriented Programming (OOP)?"
      ],
      "metadata": {
        "id": "TKDv0gvQvYzu"
      }
    },
    {
      "cell_type": "markdown",
      "source": [
        "Object Oriented Programming is a fundamental concept in Python, empowering developers to build modular, maintainable, and scalable applications. By understanding the core OOP principles—classes, objects, inheritance, encapsulation, polymorphism, and abstraction—programmers can leverage the full potential of Python’s OOP capabilities to design elegant and efficient solutions to complex problems.\n",
        "\n",
        "* OOPs Concepts in Python :\n",
        "\n",
        "Method\n",
        "\n",
        "Inheritance\n",
        "\n",
        "Polymorphism\n",
        "\n",
        "Data Abstraction\n",
        "\n",
        "Encapsulation\n",
        "\n",
        "* Method :\n",
        "\n",
        "The method is a function that is associated with an object. In Python, a method is not unique to class instances. Any object type can have methods.\n",
        "\n",
        "* Inheritance :\n",
        "\n",
        "Inheritance is the most important aspect of object-oriented programming, which simulates the real-world concept of inheritance. It specifies that the child object acquires all the properties and behaviors of the parent object.\n",
        "\n",
        "By using inheritance, we can create a class which uses all the properties and behavior of another class. The new class is known as a derived class or child class, and the one whose properties are acquired is known as a base class or parent class.\n",
        "\n",
        "* Polymorphism :\n",
        "\n",
        "Polymorphism contains two words \"poly\" and \"morphs\". Poly means many, and morph means shape. By polymorphism, we understand that one task can be performed in different ways. For example - you have a class animal, and all animals speak. But they speak differently. Here, the \"speak\" behavior is polymorphic in a sense and depends on the animal. So, the abstract \"animal\" concept does not actually \"speak\", but specific animals (like dogs and cats) have a concrete implementation of the action \"speak\".\n",
        "\n",
        "* Encapsulation :\n",
        "\n",
        "Encapsulation is also an essential aspect of object-oriented programming. It is used to restrict access to methods and variables. In encapsulation, code and data are wrapped together within a single unit from being modified by accident.\n",
        "\n",
        "* Data Abstraction :\n",
        "\n",
        "Data abstraction and encapsulation both are often used as synonyms. Both are nearly synonyms because data abstraction is achieved through encapsulation.\n",
        "\n",
        "Abstraction is used to hide internal details and show only functionalities. Abstracting something means to give names to things so that the name captures the core of what a function or a whole program does."
      ],
      "metadata": {
        "id": "9bLgCaJ5w-IV"
      }
    },
    {
      "cell_type": "markdown",
      "source": [
        "2. Write a Python class for a 'Car' with attributes for 'make', 'model', and 'year'. Include a method to display\n",
        "the car's information."
      ],
      "metadata": {
        "id": "X6k5VMz30pK4"
      }
    },
    {
      "cell_type": "code",
      "source": [
        "class Car:\n",
        "    def __init__(self, make, model, year):\n",
        "        self.make = make\n",
        "        self.model = model\n",
        "        self.year = year\n",
        "\n",
        "    def display_info(self):\n",
        "        print(f\"Make: {self.make}\")\n",
        "        print(f\"Model: {self.model}\")\n",
        "        print(f\"Year: {self.year}\")"
      ],
      "metadata": {
        "id": "GJbzm4M42Qh_"
      },
      "execution_count": null,
      "outputs": []
    },
    {
      "cell_type": "code",
      "source": [
        "my_car = Car(\"Tata\", \"Nexon.ev\", 2024)\n",
        "my_car.display_info()"
      ],
      "metadata": {
        "colab": {
          "base_uri": "https://localhost:8080/"
        },
        "id": "BrI0lxs12a7y",
        "outputId": "50e3da9f-164b-442d-ef01-f3ec1dd7cd9b"
      },
      "execution_count": null,
      "outputs": [
        {
          "output_type": "stream",
          "name": "stdout",
          "text": [
            "Make: Tata\n",
            "Model: Nexon.ev\n",
            "Year: 2024\n"
          ]
        }
      ]
    },
    {
      "cell_type": "markdown",
      "source": [
        "3. Explain the difference between instance methods and class methods. Provide an example of each."
      ],
      "metadata": {
        "id": "Q5TgZxQu3FGf"
      }
    },
    {
      "cell_type": "markdown",
      "source": [
        "* Instance Method :\n",
        "\n",
        "Instance methods are the most common type of methods in Python classes. They are associated with instances of a class and operate on the instance’s data. When defining an instance method, the method’s first parameter is typically named self, which refers to the instance calling the method. This allows the method to access and manipulate the instance’s attributes."
      ],
      "metadata": {
        "id": "tdn2M3575AZF"
      }
    },
    {
      "cell_type": "code",
      "source": [
        "class Person:\n",
        "    def __init__(self, name, age):\n",
        "        self.name = name\n",
        "        self.age = age\n",
        "\n",
        "    def greet(self):\n",
        "        print(f\"Hello, my name is {self.name} and I am {self.age} years old.\")"
      ],
      "metadata": {
        "id": "zyWI0RJh_AXK"
      },
      "execution_count": null,
      "outputs": []
    },
    {
      "cell_type": "code",
      "source": [
        "person1 = Person(\"krishna\", 20)\n",
        "person1.greet()"
      ],
      "metadata": {
        "colab": {
          "base_uri": "https://localhost:8080/"
        },
        "id": "HRYj5rlh_Ifx",
        "outputId": "91f0a571-7a99-4a4f-c969-3cc82bd00bb1"
      },
      "execution_count": null,
      "outputs": [
        {
          "output_type": "stream",
          "name": "stdout",
          "text": [
            "Hello, my name is krishna and I am 20 years old.\n"
          ]
        }
      ]
    },
    {
      "cell_type": "markdown",
      "source": [
        "* Class Method :\n",
        "\n",
        "Class methods are associated with the class rather than instances. They are defined using the @classmethod decorator and take the class itself as the first parameter, usually named cls. Class methods are useful for tasks that involve the class rather than the instance, such as creating class-specific behaviors or modifying class-level attributes."
      ],
      "metadata": {
        "id": "KTDpIi9Y_hfJ"
      }
    },
    {
      "cell_type": "code",
      "source": [
        "class Circle:\n",
        "    pi = 3.14159\n",
        "\n",
        "    @classmethod\n",
        "    def create_circle_from_diameter(cls, diameter):\n",
        "        radius = diameter / 2\n",
        "        return cls(radius)\n",
        "\n",
        "    def __init__(self, radius):\n",
        "        self.radius = radius\n",
        "\n",
        "    def area(self):\n",
        "        return self.pi * self.radius**2"
      ],
      "metadata": {
        "id": "VDgwWyK1DANz"
      },
      "execution_count": null,
      "outputs": []
    },
    {
      "cell_type": "code",
      "source": [
        "circle1 = Circle.create_circle_from_diameter(10)\n",
        "print(circle1.area())"
      ],
      "metadata": {
        "colab": {
          "base_uri": "https://localhost:8080/"
        },
        "id": "2xuOi6FiDFE5",
        "outputId": "79713894-9763-4b6c-82fc-5f5f3242431d"
      },
      "execution_count": null,
      "outputs": [
        {
          "output_type": "stream",
          "name": "stdout",
          "text": [
            "78.53975\n"
          ]
        }
      ]
    },
    {
      "cell_type": "markdown",
      "source": [
        "Class Method Vs. Instance Method\n",
        "\n",
        "* Definition :\n",
        "\n",
        "A method bound to the class itself, defined with “@classmethod”\n",
        "\n",
        "A method defined within a class, taking 'self' as the first parameter, representing the instance.\n",
        "\n",
        "* Access :\n",
        "\n",
        "Can access class attributes and modify them.\n",
        "\n",
        "Can access and modify instance attributes.\n",
        "\n",
        "* First Argument :\n",
        "\n",
        "Receives ‘cls’ as the first argument representing the class.\n",
        "\n",
        "Receives 'self' as the first argument representing the instance.\n",
        "\n",
        "* Usage :\n",
        "\n",
        "Often used for operations that modify or interact with class-level data.\n",
        "\n",
        "Commonly used for operations specific to individual instances.\n",
        "\n",
        "* Inheritance :\n",
        "\n",
        "Can be overridden in subclasses, with ‘cls’ referring to the subclass.\n",
        "\n",
        "Can be overridden in subclasses, with ‘self’ referring to the subclass instance.\n",
        "\n",
        "* Access Modifier :\n",
        "\n",
        "Typically used when the method needs access to class-level data.\n",
        "\n",
        "Preferred when the method operates on instance-specific attributes.\n",
        "\n",
        "* Example Use :\n",
        "\n",
        "Calculating statistics across all instances of a class.\n",
        "\n",
        "Returning information specific to an instance, like its attributes.\n",
        "\n",
        "* Usefulness :\n",
        "\n",
        "Useful when dealing with class-level functionality and shared attributes.\n",
        "\n",
        "Essential for modifying and accessing instance attributes and behaviors."
      ],
      "metadata": {
        "id": "kycaySf2ILAb"
      }
    },
    {
      "cell_type": "markdown",
      "source": [
        "4. How does Python implement method overloading? Give an example."
      ],
      "metadata": {
        "id": "yUonR7-sJqA-"
      }
    },
    {
      "cell_type": "markdown",
      "source": [
        "Overloading is the ability of a function or an operator to behave in different ways based on the parameters that are passed to the function, or the operands that the operator acts on.\n",
        "\n",
        "In Python, you can create a method that can be called in different ways. So, you can have a method that has zero, one or more number of parameters. Depending on the method definition, we can call it with zero, one or more arguments.\n",
        "\n",
        "Given a single method or function, the number of parameters can be specified by you. This process of calling the same method in different ways is called method overloading."
      ],
      "metadata": {
        "id": "sEl_YtfKW2Qo"
      }
    },
    {
      "cell_type": "code",
      "source": [
        "#Example\n",
        "class Person:\n",
        "  def Hello(self, name=None):\n",
        "    if name is not None:\n",
        "      print('Hello ' + name)\n",
        "    else:\n",
        "      print('Hello ')\n",
        "\n",
        "obj = Person()\n",
        "obj.Hello()\n",
        "obj.Hello('Student')"
      ],
      "metadata": {
        "colab": {
          "base_uri": "https://localhost:8080/"
        },
        "id": "E3Cwed0-XTls",
        "outputId": "f60df8b8-6cf3-48b9-a1bd-890a11a3cb27"
      },
      "execution_count": null,
      "outputs": [
        {
          "output_type": "stream",
          "name": "stdout",
          "text": [
            "Hello \n",
            "Hello Student\n"
          ]
        }
      ]
    },
    {
      "cell_type": "markdown",
      "source": [
        "5. What are the three types of access modifiers in Python? How are they denoted?"
      ],
      "metadata": {
        "id": "FcMjYz84T1Ww"
      }
    },
    {
      "cell_type": "markdown",
      "source": [
        "Python supports three types of access modifiers which are public,private and protected. These access modifiers provide restrictions on the access of member variables and methods of the class from any object outside the class.\n",
        "\n",
        "* Public Access Modifier :\n",
        "\n",
        "By default the member variables and methods are public which means they can be accessed from anywhere outside or inside the class. No public keyword is required to make the class or methods and properties public.Here is an example of Public access modifier\n",
        "\n",
        "* Private Access Modifier :\n",
        "\n",
        "Class properties and methods with private access modifier can only be accessed within the class where they are defined and cannot be accessed outside the class. In Python private properties and methods are declared by adding a prefix with two underscores(‘__’) before their declaration.\n",
        "\n",
        "* Protected Access Modifier :\n",
        "Class properties and methods with protected access modifier can be accessed within the class and from the class that inherits the protected class. In python, protected members and methods are declared using single underscore(‘_’) as prefix before their names."
      ],
      "metadata": {
        "id": "oKs_CjxmJWDD"
      }
    },
    {
      "cell_type": "markdown",
      "source": [
        "6. Describe the five types of inheritance in Python. Provide a simple example of multiple inheritance."
      ],
      "metadata": {
        "id": "o1IYsB9PT4Rx"
      }
    },
    {
      "cell_type": "markdown",
      "source": [
        "1. Single inheritance :\n",
        "\n",
        " In this type, a derived class inherits from only one base class.\n",
        "\n",
        "2. Multiple inheritance :\n",
        "\n",
        "  In this inheritance, the derived class inherits from multiple base classes.\n",
        "\n",
        "3. Multilevel Inheritance :\n",
        "\n",
        "  A class inherits from a parent class, and then another class inherits from that class, creating a chain of inheritance.\n",
        "\n",
        "4. Hierarchical Inheritance :\n",
        "\n",
        " Multiple classes inherit from a single parent class. Each subclass can have its own methods in addition to the inherited ones.\n",
        "\n",
        "5. Hybrid Inheritance:\n",
        "\n",
        "  A combination of multiple, multilevel, and hierarchical inheritance.Can be complex and difficult to manage."
      ],
      "metadata": {
        "id": "EOvnBxWAMPpV"
      }
    },
    {
      "cell_type": "code",
      "source": [
        "# Example\n",
        "class Animal:\n",
        "    def __init__(self, name):\n",
        "        self.name = name\n",
        "\n",
        "    def speak(self):\n",
        "        print(\"Generic animal sound\")\n",
        "\n",
        "class Dog(Animal):\n",
        "    def speak(self):\n",
        "        print(\"Woof!\")\n",
        "\n",
        "\n",
        "class Cat(Animal):\n",
        "    def speak(self):\n",
        "        print(\"Meow!\")\n",
        "\n",
        "class DogCat(Dog, Cat):\n",
        "    pass"
      ],
      "metadata": {
        "id": "ABnMesVTNQT8"
      },
      "execution_count": null,
      "outputs": []
    },
    {
      "cell_type": "code",
      "source": [
        "dogcat = DogCat(\"Fluffy\")\n",
        "dogcat.speak()"
      ],
      "metadata": {
        "colab": {
          "base_uri": "https://localhost:8080/"
        },
        "id": "hKKO2plQTDiV",
        "outputId": "6ca4e83f-fb6d-4f73-e9e6-dcbcd89437e7"
      },
      "execution_count": null,
      "outputs": [
        {
          "output_type": "stream",
          "name": "stdout",
          "text": [
            "Woof!\n"
          ]
        }
      ]
    },
    {
      "cell_type": "markdown",
      "source": [
        "7. What is the Method Resolution Order (MRO) in Python? How can you retrieve it programmatically?"
      ],
      "metadata": {
        "id": "Hdv650UfT7h_"
      }
    },
    {
      "cell_type": "markdown",
      "source": [
        "Method Resolution Order :\n",
        "\n",
        "Method Resolution Order(MRO) it denotes the way a programming language resolves a method or attribute. Python supports classes inheriting from other classes. The class being inherited is called the Parent or Superclass, while the class that inherits is called the Child or Subclass. In python, method resolution order defines the order in which the base classes are searched when executing a method. First, the method or attribute is searched within a class and then it follows the order we specified while inheriting. This order is also called Linearization of a class and set of rules are called MRO(Method Resolution Order). While inheriting from another class, the interpreter needs a way to resolve the methods that are being called via an instance. Thus we need the method resolution order."
      ],
      "metadata": {
        "id": "yXHEEWGVUYPb"
      }
    },
    {
      "cell_type": "code",
      "source": [
        "class A:\n",
        "    pass\n",
        "\n",
        "class B(A):\n",
        "    pass\n",
        "\n",
        "class C(A):\n",
        "    pass\n",
        "\n",
        "class D(B, C):\n",
        "    pass\n",
        "\n",
        "print(D.__mro__)"
      ],
      "metadata": {
        "colab": {
          "base_uri": "https://localhost:8080/"
        },
        "id": "SpSRvJIFUbFU",
        "outputId": "73a46b39-1d9c-4306-f311-2cb27ad441be"
      },
      "execution_count": null,
      "outputs": [
        {
          "output_type": "stream",
          "name": "stdout",
          "text": [
            "(<class '__main__.D'>, <class '__main__.B'>, <class '__main__.C'>, <class '__main__.A'>, <class 'object'>)\n"
          ]
        }
      ]
    },
    {
      "cell_type": "markdown",
      "source": [
        "8. Create an abstract base class 'Shape' with an abstract method 'area()'. Then create two subclasses\n",
        "'Circle' and 'Rectangle' that implement the 'area()' method."
      ],
      "metadata": {
        "id": "ixuNpEeTT_D4"
      }
    },
    {
      "cell_type": "code",
      "source": [
        "from abc import ABC, abstractmethod\n",
        "\n",
        "class Shape(ABC):\n",
        "    @abstractmethod\n",
        "    def area(self):\n",
        "        pass\n",
        "\n",
        "class Circle(Shape):\n",
        "    def __init__(self, radius):\n",
        "        self.radius = radius\n",
        "\n",
        "    def area(self):\n",
        "        return 3.14159\n",
        "        self.radius * 2\n",
        "\n",
        "class Rectangle(Shape):\n",
        "    def __init__(self, length, width):\n",
        "        self.length = length\n",
        "        self.width = width\n",
        "\n",
        "    def area(self):\n",
        "        return self.length * self.width\n",
        "\n",
        "\n",
        "# Example usage:\n",
        "circle = Circle(5)\n",
        "rectangle = Rectangle(4, 3)\n",
        "\n",
        "print(\"Circle area:\", circle.area())\n",
        "print(\"Rectangle area:\", rectangle.area())"
      ],
      "metadata": {
        "colab": {
          "base_uri": "https://localhost:8080/"
        },
        "id": "jhOaA4tnWilT",
        "outputId": "8796756e-2ab0-4502-9522-74b34f1ba411"
      },
      "execution_count": null,
      "outputs": [
        {
          "output_type": "stream",
          "name": "stdout",
          "text": [
            "Circle area: 3.14159\n",
            "Rectangle area: 12\n"
          ]
        }
      ]
    },
    {
      "cell_type": "markdown",
      "source": [
        "9. Demonstrate polymorphism by creating a function that can work with different shape objects to calculate\n",
        "and print their areas."
      ],
      "metadata": {
        "id": "lP_T8NUYUhod"
      }
    },
    {
      "cell_type": "code",
      "source": [
        "class Shape:\n",
        "    def area(self):\n",
        "        raise NotImplementedError(\"Area method must be implemented in subclasses\")\n",
        "\n",
        "class Circle(Shape):\n",
        "    def __init__(self, radius):\n",
        "        self.radius = radius\n",
        "\n",
        "    def area(self):\n",
        "        return 3.14159 * self.radius * self.radius\n",
        "\n",
        "class Rectangle(Shape):\n",
        "    def __init__(self,length, width):\n",
        "        self.length = length\n",
        "        self.width = width\n",
        "\n",
        "    def area(self):\n",
        "        return self.length * self.width\n",
        "\n",
        "class Triangle(Shape):\n",
        "    def __init__(self, base, height):\n",
        "        self.base = base\n",
        "        self.height = height\n",
        "\n",
        "    def area(self):\n",
        "        return 0.5 * self.base * self.height\n",
        "\n",
        "def calculate_and_print_area(shape):\n",
        "    area = shape.area()\n",
        "    print(f\"The area of the {type(shape).__name__} is: {area}\")\n",
        "\n",
        "# Create objects of different shapes\n",
        "circle = Circle(5)\n",
        "rectangle = Rectangle(4, 3)\n",
        "triangle = Triangle(6, 8)\n",
        "\n",
        "# Calculate and print their areas using the same function\n",
        "calculate_and_print_area(circle)\n",
        "calculate_and_print_area(rectangle)\n",
        "calculate_and_print_area(triangle)"
      ],
      "metadata": {
        "colab": {
          "base_uri": "https://localhost:8080/"
        },
        "id": "btEiDfXoP8lw",
        "outputId": "97dcf376-833e-4829-d380-a6acf7c629e3"
      },
      "execution_count": null,
      "outputs": [
        {
          "output_type": "stream",
          "name": "stdout",
          "text": [
            "The area of the Circle is: 78.53975\n",
            "The area of the Rectangle is: 12\n",
            "The area of the Triangle is: 24.0\n"
          ]
        }
      ]
    },
    {
      "cell_type": "markdown",
      "source": [
        "10. Implement encapsulation in a 'BankAccount' class with private attributes for 'balance' and\n",
        "'account_number'. Include methods for deposit, withdrawal, and balance inquiry."
      ],
      "metadata": {
        "id": "XpG4ktAtUka_"
      }
    },
    {
      "cell_type": "code",
      "source": [
        "class BankAccount:\n",
        "    def __init__(self, account_number, initial_balance=0):\n",
        "        self.__account_number = account_number\n",
        "        self.__balance = initial_balance\n",
        "\n",
        "    def deposit(self, amount):\n",
        "\n",
        "        if amount > 0:\n",
        "            self.__balance += amount\n",
        "            print(f\"Deposited {amount}. New balance: {self.__balance}\")\n",
        "        else:\n",
        "            print(\"Invalid deposit amount.\")\n",
        "\n",
        "    def withdraw(self, amount):\n",
        "        if amount > 0 and amount <= self.__balance:\n",
        "            self.__balance -= amount\n",
        "            print(f\"Withdrew {amount}. New balance: {self.__balance}\")\n",
        "        else:\n",
        "            print(\"Insufficient funds or invalid withdrawal amount.\")\n",
        "\n",
        "    def get_balance(self):\n",
        "        return self.__balance\n",
        "\n",
        "# Create a bank account object\n",
        "account = BankAccount(\"1234567890\", 1000)\n",
        "\n",
        "# Deposit and withdraw funds\n",
        "account.deposit(500)\n",
        "account.withdraw(200)\n",
        "\n",
        "# Check the balance\n",
        "balance = account.get_balance()\n",
        "print(f\"Current balance: {balance}\")"
      ],
      "metadata": {
        "colab": {
          "base_uri": "https://localhost:8080/"
        },
        "id": "ugDiKQn5TSTB",
        "outputId": "5a8b97d6-2095-4db5-dd88-266b95a8af93"
      },
      "execution_count": null,
      "outputs": [
        {
          "output_type": "stream",
          "name": "stdout",
          "text": [
            "Deposited 500. New balance: 1500\n",
            "Withdrew 200. New balance: 1300\n",
            "Current balance: 1300\n"
          ]
        }
      ]
    },
    {
      "cell_type": "markdown",
      "source": [
        "11. Write a class that overrides the '__str__' and '__add__' magic methods. What will these methods allow\n",
        "you to do?"
      ],
      "metadata": {
        "id": "AcQt2qxSUt7F"
      }
    },
    {
      "cell_type": "code",
      "source": [
        "class MyClass:\n",
        "    def __init__(self, value):\n",
        "        self.value = value\n",
        "\n",
        "    def __str__(self):\n",
        "        return f\"Class object with value: {self.value}\"\n",
        "\n",
        "    def __add__(self, other):\n",
        "        if isinstance(other, MyClass):\n",
        "            return MyClass(self.value + other.value)\n",
        "        else:\n",
        "            raise TypeError(\"Can only add to another MyClass object\")\n",
        "\n",
        "# Create objects\n",
        "obj1 = MyClass(10)\n",
        "obj2 = MyClass(20)\n",
        "\n",
        "# Print the objects\n",
        "print(obj1)\n",
        "print(obj2)\n",
        "\n",
        "# Add the objects\n",
        "obj3 = obj1 + obj2\n",
        "print(obj3)"
      ],
      "metadata": {
        "colab": {
          "base_uri": "https://localhost:8080/"
        },
        "id": "ivOxFDSJX_U_",
        "outputId": "1227f590-382e-4508-b722-3b682a39deaf"
      },
      "execution_count": null,
      "outputs": [
        {
          "output_type": "stream",
          "name": "stdout",
          "text": [
            "Class object with value: 10\n",
            "Class object with value: 20\n",
            "Class object with value: 30\n"
          ]
        }
      ]
    },
    {
      "cell_type": "markdown",
      "source": [
        "12. Create a decorator that measures and prints the execution time of a function."
      ],
      "metadata": {
        "id": "983xOzSDU4TV"
      }
    },
    {
      "cell_type": "code",
      "source": [
        "import time\n",
        "\n",
        "def measure_time(func):\n",
        "    def wrapper(*args, **kwargs):\n",
        "        start_time = time.time()\n",
        "        result = func(*args, **kwargs)\n",
        "        end_time = time.time()\n",
        "        elapsed_time = end_time - start_time\n",
        "        print(f\"Function {func.__name__}executed in {elapsed_time:.5f} seconds\")\n",
        "        return result\n",
        "    return wrapper\n",
        "\n",
        "@measure_time\n",
        "def my_function(n):\n",
        "    sum = 0\n",
        "    for i in range(n):\n",
        "        sum += i\n",
        "    return sum\n",
        "\n",
        "result = my_function(1000000)\n",
        "print(result)"
      ],
      "metadata": {
        "colab": {
          "base_uri": "https://localhost:8080/"
        },
        "id": "ka-k2sUGZ1hH",
        "outputId": "35a9f027-e35b-47f4-e310-088602e73ae4"
      },
      "execution_count": null,
      "outputs": [
        {
          "output_type": "stream",
          "name": "stdout",
          "text": [
            "Function my_functionexecuted in 0.07645 seconds\n",
            "499999500000\n"
          ]
        }
      ]
    },
    {
      "cell_type": "markdown",
      "source": [
        "13. Explain the concept of the Diamond Problem in multiple inheritance. How does Python resolve it?"
      ],
      "metadata": {
        "id": "y4Y6rnQuU7sA"
      }
    },
    {
      "cell_type": "markdown",
      "source": [
        "The Diamond Problem occurs in multiple inheritance when a class inherits attributes or methods from two different parent classes that have a common ancestor. This creates a conflict when trying to access the same attribute or method from the child class, as it's unclear which parent class's version should be used."
      ],
      "metadata": {
        "id": "Uh21qsFFMfSX"
      }
    },
    {
      "cell_type": "code",
      "source": [
        "class A:\n",
        "    def method(self):\n",
        "        print(\"A's method\")\n",
        "\n",
        "class B(A):\n",
        "    pass\n",
        "\n",
        "class C(A):\n",
        "    pass\n",
        "\n",
        "class D(B, C):\n",
        "    pass\n",
        "\n",
        "d = D()\n",
        "d.method()"
      ],
      "metadata": {
        "colab": {
          "base_uri": "https://localhost:8080/"
        },
        "id": "Ra6Ifc6pMkDT",
        "outputId": "5dbef348-ed4b-41db-d430-a35fbf7adbeb"
      },
      "execution_count": null,
      "outputs": [
        {
          "output_type": "stream",
          "name": "stdout",
          "text": [
            "A's method\n"
          ]
        }
      ]
    },
    {
      "cell_type": "markdown",
      "source": [
        "Python's Resolution :\n",
        "\n",
        "Python uses the Method Resolution Order (MRO) to determine which method or attribute to use in cases of multiple inheritance. The MRO is a list that defines the order in which parent classes are searched for methods and attributes.\n",
        "\n",
        "Python's MRO algorithm is based on the C3 linearization algorithm, which ensures that the MRO is consistent and avoids the Diamond Problem. The C3 algorithm ensures that:\n",
        "\n",
        "Parent classes appear before their subclasses.\n",
        "A class appears before its parents.\n",
        "If a class has multiple parents, the leftmost parent appears before the rightmost parent."
      ],
      "metadata": {
        "id": "zO6WMOMkM3_W"
      }
    },
    {
      "cell_type": "markdown",
      "source": [
        "14. Write a class method that keeps track of the number of instances created from a class."
      ],
      "metadata": {
        "id": "Vs6BWlxuU-jA"
      }
    },
    {
      "cell_type": "code",
      "source": [
        "class MyClass:\n",
        "    count = 0\n",
        "\n",
        "    def __init__(self):\n",
        "        MyClass.count += 1\n",
        "\n",
        "    @classmethod\n",
        "    def get_instance_count(cls):\n",
        "        return cls.count\n",
        "\n",
        "obj1 = MyClass()\n",
        "obj2 = MyClass()\n",
        "obj3 = MyClass()\n",
        "obj4 = MyClass()\n",
        "\n",
        "print(MyClass.get_instance_count())"
      ],
      "metadata": {
        "colab": {
          "base_uri": "https://localhost:8080/"
        },
        "id": "OdJNHlLBSD3Y",
        "outputId": "71e9aa71-a2ae-46d0-9771-461395ce3ed4"
      },
      "execution_count": null,
      "outputs": [
        {
          "output_type": "stream",
          "name": "stdout",
          "text": [
            "4\n"
          ]
        }
      ]
    },
    {
      "cell_type": "markdown",
      "source": [
        "15. Implement a static method in a class that checks if a given year is a leap year."
      ],
      "metadata": {
        "id": "e4RUcpCLVB4f"
      }
    },
    {
      "cell_type": "code",
      "source": [
        "class LeapYearChecker:\n",
        "    @staticmethod\n",
        "    def is_leap_year(year):\n",
        "\n",
        "        if (year % 100 == 0 and year % 400 == 0) or (year % 4 == 0 and year % 100 != 0):\n",
        "            return True\n",
        "        else:\n",
        "            return False\n",
        "\n",
        "year = int(input(\"Enter the year: \"))\n",
        "\n",
        "if LeapYearChecker.is_leap_year(year):\n",
        "    print(\"Year {} is a leap year.\".format(year))\n",
        "else:\n",
        "    print(\"Year {} is not a leap year.\".format(year))"
      ],
      "metadata": {
        "colab": {
          "base_uri": "https://localhost:8080/"
        },
        "id": "3e9kL3bVb4q2",
        "outputId": "cdd326cc-9a0c-4019-b8dc-31fb0eba15d1"
      },
      "execution_count": 20,
      "outputs": [
        {
          "output_type": "stream",
          "name": "stdout",
          "text": [
            "Enter the year: 2000\n",
            "Year 2000 is a leap year.\n"
          ]
        }
      ]
    }
  ]
}